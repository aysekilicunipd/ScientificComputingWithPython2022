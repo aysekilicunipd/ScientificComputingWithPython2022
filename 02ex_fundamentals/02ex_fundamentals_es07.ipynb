{
 "cells": [
  {
   "cell_type": "code",
   "execution_count": 7,
   "id": "4e429aa3-63f3-4460-9020-4124063b7c39",
   "metadata": {},
   "outputs": [
    {
     "name": "stdout",
     "output_type": "stream",
     "text": [
      "<function hello at 0x7f222e5c3820> was called.\n",
      "Hello World!\n"
     ]
    }
   ],
   "source": [
    "def hello(f): \n",
    "    def log_f_as_called():\n",
    "        print(f'{f} was called.')\n",
    "        f()\n",
    "    return log_f_as_called\n",
    "\n",
    "@hello\n",
    "def hello():\n",
    "    print('Hello World!')\n",
    "    \n",
    "hello()"
   ]
  },
  {
   "cell_type": "code",
   "execution_count": null,
   "id": "8036d8fc-91e2-4315-a634-4a6f10b29250",
   "metadata": {},
   "outputs": [],
   "source": []
  }
 ],
 "metadata": {
  "kernelspec": {
   "display_name": "Python 3 (ipykernel)",
   "language": "python",
   "name": "python3"
  },
  "language_info": {
   "codemirror_mode": {
    "name": "ipython",
    "version": 3
   },
   "file_extension": ".py",
   "mimetype": "text/x-python",
   "name": "python",
   "nbconvert_exporter": "python",
   "pygments_lexer": "ipython3",
   "version": "3.9.13"
  }
 },
 "nbformat": 4,
 "nbformat_minor": 5
}
