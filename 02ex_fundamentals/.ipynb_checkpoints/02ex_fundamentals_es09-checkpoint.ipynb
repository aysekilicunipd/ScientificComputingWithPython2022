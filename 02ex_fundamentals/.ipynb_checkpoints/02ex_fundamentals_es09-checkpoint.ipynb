{
 "cells": [
  {
   "cell_type": "code",
   "execution_count": 17,
   "id": "e96e7db3-d2f3-44f2-b7c8-a1d7c4610f8e",
   "metadata": {},
   "outputs": [
    {
     "name": "stdout",
     "output_type": "stream",
     "text": [
      "loopFibonacci: \n",
      "85.9 ns ± 6.52 ns per loop (mean ± std. dev. of 7 runs, 10000000 loops each)\n",
      "recursiveFibonacci: \n",
      "82.8 ns ± 14.5 ns per loop (mean ± std. dev. of 7 runs, 10000000 loops each)\n"
     ]
    }
   ],
   "source": [
    "import timeit\n",
    "\n",
    "loopFibonacci = '''\n",
    "i, first, second, length = 0, 0, 1, 20\n",
    "           \n",
    "while(i < length):\n",
    "    if(i <= 1):\n",
    "        count = i\n",
    "    else:\n",
    "        count = first + second\n",
    "        first = second\n",
    "        second = count\n",
    "    print(count)\n",
    "    i += 1\n",
    "'''\n",
    "\n",
    "recursiveFibonacci = '''\n",
    "def recursiveFibonacci(n):  \n",
    "    if n <= 1:  \n",
    "        return n  \n",
    "    else:  \n",
    "        return(recursiveFibonacci(n-1) + recursiveFibonacci(n-2))\n",
    "    \n",
    "length = 20  \n",
    "for i in range(length):\n",
    "    print(recursiveFibonacci(i)) \n",
    "'''\n",
    "\n",
    "print(\"loopFibonacci: \")\n",
    "%timeit loopFibonacci\n",
    "print(\"recursiveFibonacci: \")\n",
    "%timeit recursiveFibonacci"
   ]
  },
  {
   "cell_type": "code",
   "execution_count": null,
   "id": "d4d59c88-51f6-4c9d-8b16-3877638b683f",
   "metadata": {},
   "outputs": [],
   "source": []
  }
 ],
 "metadata": {
  "kernelspec": {
   "display_name": "Python 3 (ipykernel)",
   "language": "python",
   "name": "python3"
  },
  "language_info": {
   "codemirror_mode": {
    "name": "ipython",
    "version": 3
   },
   "file_extension": ".py",
   "mimetype": "text/x-python",
   "name": "python",
   "nbconvert_exporter": "python",
   "pygments_lexer": "ipython3",
   "version": "3.9.13"
  }
 },
 "nbformat": 4,
 "nbformat_minor": 5
}
