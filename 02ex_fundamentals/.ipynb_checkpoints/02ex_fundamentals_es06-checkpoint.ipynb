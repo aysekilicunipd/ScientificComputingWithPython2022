{
 "cells": [
  {
   "cell_type": "code",
   "execution_count": 26,
   "id": "0ddf904b-1fa9-46df-bd68-3423b87be272",
   "metadata": {},
   "outputs": [
    {
     "name": "stdout",
     "output_type": "stream",
     "text": [
      "4\n",
      "8\n",
      "64\n"
     ]
    }
   ],
   "source": [
    "def square(num):\n",
    "    return num*num\n",
    "\n",
    "def cube(num):\n",
    "    return num*num*num\n",
    "    \n",
    "print(square(2))\n",
    "print(cube(2))\n",
    "\n",
    "def sixth_pow(num):\n",
    "    return cube(square(num))\n",
    "\n",
    "print(sixth_pow(2))"
   ]
  },
  {
   "cell_type": "code",
   "execution_count": null,
   "id": "03d8aa26-368c-4ead-b250-c6cb3cb95d3a",
   "metadata": {},
   "outputs": [],
   "source": []
  }
 ],
 "metadata": {
  "kernelspec": {
   "display_name": "Python 3 (ipykernel)",
   "language": "python",
   "name": "python3"
  },
  "language_info": {
   "codemirror_mode": {
    "name": "ipython",
    "version": 3
   },
   "file_extension": ".py",
   "mimetype": "text/x-python",
   "name": "python",
   "nbconvert_exporter": "python",
   "pygments_lexer": "ipython3",
   "version": "3.9.13"
  }
 },
 "nbformat": 4,
 "nbformat_minor": 5
}
