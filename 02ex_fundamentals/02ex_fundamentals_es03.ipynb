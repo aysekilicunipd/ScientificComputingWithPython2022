{
 "cells": [
  {
   "cell_type": "code",
   "execution_count": 30,
   "id": "105183a0-9b18-4ec7-93cb-02b764d10d74",
   "metadata": {},
   "outputs": [
    {
     "name": "stdin",
     "output_type": "stream",
     "text": [
      "Enter words:  frdf dfvd dsf ssf ss s ssss dsfgdgdff sfs \n",
      "Minimum length for filtering:  5\n"
     ]
    },
    {
     "name": "stdout",
     "output_type": "stream",
     "text": [
      "Words shorter than length 5: frdf, dfvd, dsf, ssf, ss, s, ssss, sfs\n"
     ]
    }
   ],
   "source": [
    "def filter_func(list_of_words, length):\n",
    "    return (word for word in list_of_words if len(word) < length)\n",
    "\n",
    "words = input(\"Enter words: \").split()\n",
    "length = int(input(\"Minimum length for filtering: \"))\n",
    "print(\"Words shorter than length {}: {}\".format(length, ', '.join(shorter(words, length))))"
   ]
  },
  {
   "cell_type": "code",
   "execution_count": null,
   "id": "8161fa5f-dc33-431b-9877-72e994f997b7",
   "metadata": {},
   "outputs": [],
   "source": []
  }
 ],
 "metadata": {
  "kernelspec": {
   "display_name": "Python 3 (ipykernel)",
   "language": "python",
   "name": "python3"
  },
  "language_info": {
   "codemirror_mode": {
    "name": "ipython",
    "version": 3
   },
   "file_extension": ".py",
   "mimetype": "text/x-python",
   "name": "python",
   "nbconvert_exporter": "python",
   "pygments_lexer": "ipython3",
   "version": "3.9.13"
  }
 },
 "nbformat": 4,
 "nbformat_minor": 5
}
