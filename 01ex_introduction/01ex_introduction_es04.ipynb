{
 "cells": [
  {
   "cell_type": "code",
   "execution_count": 1,
   "id": "90013c00-3bd3-47ea-a65f-cc09acc2ae04",
   "metadata": {},
   "outputs": [
    {
     "name": "stdout",
     "output_type": "stream",
     "text": [
      "{'w': 4, 'r': 19, 'i': 12, 't': 19, 'e': 20, ' ': 41, 'a': 7, 'p': 8, 'o': 15, 'g': 1, 'm': 8, 'h': 11, 'n': 10, 's': 7, 'u': 7, 'b': 5, 'f': 10, '1': 2, '0': 2, '.': 3, 'l': 12, 'd': 5, 'v': 2, 'c': 1}\n",
      "\n",
      "{'t': 2, 'h': 2, 'e': 3, ' ': 8, 'q': 1, 'u': 2, 'i': 1, 'c': 1, 'k': 1, 'b': 1, 'r': 2, 'o': 4, 'w': 1, 'n': 1, 'f': 1, 'x': 1, 'j': 1, 'm': 1, 'p': 1, 's': 1, 'v': 1, 'l': 1, 'a': 1, 'z': 1, 'y': 1, 'd': 1, 'g': 1}\n"
     ]
    }
   ],
   "source": [
    "s1 = \"Write a program that prints the numbers from 1 to 100. \\\n",
    "But for multiples of three print Hello instead of the number and for the multiples of five print World. \\\n",
    "For numbers which are multiples of both three and five print HelloWorld.\"\n",
    "s2 = \"The quick brown fox jumps over the lazy dog\"\n",
    "\n",
    "s1 = s1.lower()\n",
    "s2 = s2.lower()\n",
    "freq_char_s1 = {}\n",
    "freq_char_s2 = {}\n",
    "  \n",
    "for i in s1:\n",
    "    if i in freq_char_s1:\n",
    "        freq_char_s1[i] += 1 \n",
    "    else:\n",
    "        freq_char_s1[i] = 1 \n",
    "print (str(freq_char_s1) + '\\n')\n",
    "\n",
    "for j in s2:\n",
    "    if j in freq_char_s2:\n",
    "        freq_char_s2[j] += 1 \n",
    "    else:\n",
    "        freq_char_s2[j] = 1 \n",
    "print (str(freq_char_s2))"
   ]
  },
  {
   "cell_type": "code",
   "execution_count": null,
   "id": "90d1211e-3af8-4760-a186-f3bba8aa8cf4",
   "metadata": {},
   "outputs": [],
   "source": []
  }
 ],
 "metadata": {
  "kernelspec": {
   "display_name": "Python 3 (ipykernel)",
   "language": "python",
   "name": "python3"
  },
  "language_info": {
   "codemirror_mode": {
    "name": "ipython",
    "version": 3
   },
   "file_extension": ".py",
   "mimetype": "text/x-python",
   "name": "python",
   "nbconvert_exporter": "python",
   "pygments_lexer": "ipython3",
   "version": "3.9.13"
  }
 },
 "nbformat": 4,
 "nbformat_minor": 5
}
