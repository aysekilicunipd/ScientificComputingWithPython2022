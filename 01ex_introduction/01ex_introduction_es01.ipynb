{
 "cells": [
  {
   "cell_type": "code",
   "execution_count": 1,
   "id": "0b41bbf0-5084-4ab6-9d34-26b7a010129f",
   "metadata": {},
   "outputs": [
    {
     "name": "stdout",
     "output_type": "stream",
     "text": [
      "[1, 2, 'Hello', 4, 'World', 'Hello', 7, 8, 'Hello', 'World', 11, 'Hello', 13, 14, 'HelloWorld', 16, 17, 'Hello', 19, 'World', 'Hello', 22, 23, 'Hello', 'World', 26, 'Hello', 28, 29, 'HelloWorld', 31, 32, 'Hello', 34, 'World', 'Hello', 37, 38, 'Hello', 'World', 41, 'Hello', 43, 44, 'HelloWorld', 46, 47, 'Hello', 49, 'World', 'Hello', 52, 53, 'Hello', 'World', 56, 'Hello', 58, 59, 'HelloWorld', 61, 62, 'Hello', 64, 'World', 'Hello', 67, 68, 'Hello', 'World', 71, 'Hello', 73, 74, 'HelloWorld', 76, 77, 'Hello', 79, 'World', 'Hello', 82, 83, 'Hello', 'World', 86, 'Hello', 88, 89, 'HelloWorld', 91, 92, 'Hello', 94, 'World', 'Hello', 97, 98, 'Hello', 'World'] \n",
      "\n",
      "(1, 2, 'Python', 4, 'Works', 'Python', 7, 8, 'Python', 'Works', 11, 'Python', 13, 14, 'PythonWorks', 16, 17, 'Python', 19, 'Works', 'Python', 22, 23, 'Python', 'Works', 26, 'Python', 28, 29, 'PythonWorks', 31, 32, 'Python', 34, 'Works', 'Python', 37, 38, 'Python', 'Works', 41, 'Python', 43, 44, 'PythonWorks', 46, 47, 'Python', 49, 'Works', 'Python', 52, 53, 'Python', 'Works', 56, 'Python', 58, 59, 'PythonWorks', 61, 62, 'Python', 64, 'Works', 'Python', 67, 68, 'Python', 'Works', 71, 'Python', 73, 74, 'PythonWorks', 76, 77, 'Python', 79, 'Works', 'Python', 82, 83, 'Python', 'Works', 86, 'Python', 88, 89, 'PythonWorks', 91, 92, 'Python', 94, 'Works', 'Python', 97, 98, 'Python', 'Works')\n"
     ]
    }
   ],
   "source": [
    "# a)\n",
    "list_a = []\n",
    "for i in range(1, 101):\n",
    "    if i % 15 == 0: \n",
    "        i = \"HelloWorld\"  \n",
    "    elif i % 5 == 0: \n",
    "        i = \"World\"\n",
    "    elif i % 3 == 0:\n",
    "            i = \"Hello\"\n",
    "    list_a.append(i)     \n",
    "    \n",
    "print(list_a, '\\n')\n",
    "\n",
    "\n",
    "# b)\n",
    "list_b = tuple(list_a)\n",
    "\n",
    "for j in range(1, 100):\n",
    "    if list_a[j] == \"Hello\":\n",
    "        list_a[j] = \"Python\"\n",
    "    elif list_a[j] == \"World\":\n",
    "        list_a[j] = \"Works\"\n",
    "    elif list_a[j] == \"HelloWorld\":\n",
    "        list_a[j] = \"PythonWorks\"        \n",
    "\n",
    "list_b_tuple = tuple(list_a) \n",
    "print(list_b_tuple)"
   ]
  },
  {
   "cell_type": "code",
   "execution_count": null,
   "id": "d4e57a9f-d361-4dc8-830a-93c608a4c7ee",
   "metadata": {},
   "outputs": [],
   "source": []
  }
 ],
 "metadata": {
  "kernelspec": {
   "display_name": "Python 3 (ipykernel)",
   "language": "python",
   "name": "python3"
  },
  "language_info": {
   "codemirror_mode": {
    "name": "ipython",
    "version": 3
   },
   "file_extension": ".py",
   "mimetype": "text/x-python",
   "name": "python",
   "nbconvert_exporter": "python",
   "pygments_lexer": "ipython3",
   "version": "3.9.13"
  }
 },
 "nbformat": 4,
 "nbformat_minor": 5
}
