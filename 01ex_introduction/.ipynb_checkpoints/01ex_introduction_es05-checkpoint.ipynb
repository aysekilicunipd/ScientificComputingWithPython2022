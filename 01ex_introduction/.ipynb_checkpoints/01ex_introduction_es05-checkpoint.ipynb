{
 "cells": [
  {
   "cell_type": "code",
   "execution_count": 1,
   "id": "e84aa7c9-f641-41ce-a950-26ba1f3f16c1",
   "metadata": {},
   "outputs": [
    {
     "name": "stdout",
     "output_type": "stream",
     "text": [
      "Number of unique elements in the list:  54\n"
     ]
    }
   ],
   "source": [
    "l = [36, 45, 58, 3, 74, 96, 64, 45, 31, 10, 24, 19, 33, 86, 99, 18, 63, 70, 85,\n",
    " 85, 63, 47, 56, 42, 70, 84, 88, 55, 20, 54, 8, 56, 51, 79, 81, 57, 37, 91,\n",
    " 1, 84, 84, 36, 66, 9, 89, 50, 42, 91, 50, 95, 90, 98, 39, 16, 82, 31, 92, 41,\n",
    " 45, 30, 66, 70, 34, 85, 94, 5, 3, 36, 72, 91, 84, 34, 87, 75, 53, 51, 20, 89, 51, 20]\n",
    "\n",
    "def uniq_num(list):\n",
    "    control_list = []\n",
    "    count = 0\n",
    "    for i in list:\n",
    "        if i not in control_list:\n",
    "            count += 1\n",
    "            control_list.append(i)\n",
    "    print(\"Number of unique elements in the list: \", count)\n",
    "uniq_num(l)"
   ]
  },
  {
   "cell_type": "code",
   "execution_count": 2,
   "id": "a27812f4-8013-4e57-90c3-7214d450ed9a",
   "metadata": {},
   "outputs": [
    {
     "name": "stdout",
     "output_type": "stream",
     "text": [
      "Number of unique elements in the list:  54\n"
     ]
    }
   ],
   "source": [
    "control_list2 = []\n",
    "count2 = 0\n",
    "for j in l:\n",
    "    if j not in control_list2:\n",
    "        count2 += 1\n",
    "        control_list2.append(j)\n",
    "print(\"Number of unique elements in the list: \", count2)"
   ]
  },
  {
   "cell_type": "code",
   "execution_count": null,
   "id": "677b8dca-397f-4144-a100-a320cf3337ea",
   "metadata": {},
   "outputs": [],
   "source": []
  }
 ],
 "metadata": {
  "kernelspec": {
   "display_name": "Python 3 (ipykernel)",
   "language": "python",
   "name": "python3"
  },
  "language_info": {
   "codemirror_mode": {
    "name": "ipython",
    "version": 3
   },
   "file_extension": ".py",
   "mimetype": "text/x-python",
   "name": "python",
   "nbconvert_exporter": "python",
   "pygments_lexer": "ipython3",
   "version": "3.9.13"
  }
 },
 "nbformat": 4,
 "nbformat_minor": 5
}
