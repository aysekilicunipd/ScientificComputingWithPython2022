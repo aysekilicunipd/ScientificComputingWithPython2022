{
 "cells": [
  {
   "cell_type": "code",
   "execution_count": 1,
   "id": "d74ad721-e8d5-4943-a4fd-b58600eb8585",
   "metadata": {},
   "outputs": [
    {
     "name": "stdin",
     "output_type": "stream",
     "text": [
      "Set the value of x1:  3\n",
      "Set the value of y1:  0\n",
      "Set the value of x2:  0\n",
      "Set the value of y2:  4\n"
     ]
    },
    {
     "data": {
      "text/plain": [
       "5.0"
      ]
     },
     "execution_count": 1,
     "metadata": {},
     "output_type": "execute_result"
    }
   ],
   "source": [
    "import math\n",
    "\n",
    "def euclidean_function(u, v):\n",
    "    distance = (u[0] - v[0]) ** 2 + (u[1] - v[1]) ** 2\n",
    "    result = math.sqrt(distance) \n",
    "    return(result)\n",
    "\n",
    "x1 = int(input(\"Set the value of x1: \"))\n",
    "y1 = int(input(\"Set the value of y1: \"))\n",
    "x2 = int(input(\"Set the value of x2: \"))\n",
    "y2 = int(input(\"Set the value of y2: \"))\n",
    "        \n",
    "u = (x1, y1)\n",
    "v = (x2, y2)\n",
    "\n",
    "euclidean_function(u, v)"
   ]
  },
  {
   "cell_type": "code",
   "execution_count": null,
   "id": "4e46ecdb-5d8f-4ad0-8974-d3666a799bb6",
   "metadata": {},
   "outputs": [],
   "source": []
  }
 ],
 "metadata": {
  "kernelspec": {
   "display_name": "Python 3 (ipykernel)",
   "language": "python",
   "name": "python3"
  },
  "language_info": {
   "codemirror_mode": {
    "name": "ipython",
    "version": 3
   },
   "file_extension": ".py",
   "mimetype": "text/x-python",
   "name": "python",
   "nbconvert_exporter": "python",
   "pygments_lexer": "ipython3",
   "version": "3.9.13"
  }
 },
 "nbformat": 4,
 "nbformat_minor": 5
}
