{
 "cells": [
  {
   "cell_type": "code",
   "execution_count": 1,
   "id": "8e7b18d6-2961-47b6-b83d-ed1323a1265b",
   "metadata": {},
   "outputs": [
    {
     "name": "stdout",
     "output_type": "stream",
     "text": [
      "After swaping, x: 10.3, y: -5.6\n"
     ]
    }
   ],
   "source": [
    "def swap_function(x, y): \n",
    "    x = x + y\n",
    "    y = x - y\n",
    "    x = x - y\n",
    "    print(\"After swaping, x: %.1f, y: %.1f\" % (x, y))    \n",
    "swap_function(-5.6, 10.3)"
   ]
  },
  {
   "cell_type": "code",
   "execution_count": null,
   "id": "e6fa69dd-553f-4641-a6a1-52a33f90ad51",
   "metadata": {},
   "outputs": [],
   "source": []
  }
 ],
 "metadata": {
  "kernelspec": {
   "display_name": "Python 3 (ipykernel)",
   "language": "python",
   "name": "python3"
  },
  "language_info": {
   "codemirror_mode": {
    "name": "ipython",
    "version": 3
   },
   "file_extension": ".py",
   "mimetype": "text/x-python",
   "name": "python",
   "nbconvert_exporter": "python",
   "pygments_lexer": "ipython3",
   "version": "3.9.13"
  }
 },
 "nbformat": 4,
 "nbformat_minor": 5
}
