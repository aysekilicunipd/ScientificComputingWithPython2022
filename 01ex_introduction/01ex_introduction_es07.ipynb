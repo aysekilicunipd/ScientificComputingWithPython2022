{
 "cells": [
  {
   "cell_type": "code",
   "execution_count": 1,
   "id": "b82be47b-9828-45d8-b1e5-e4637802ed2a",
   "metadata": {},
   "outputs": [
    {
     "name": "stdout",
     "output_type": "stream",
     "text": [
      "For Loop: [0, 1, 8, 27, 64, 125, 216, 343, 512, 729, 1000]\n",
      "List Comprehension: [0, 1, 8, 27, 64, 125, 216, 343, 512, 729, 1000]\n"
     ]
    }
   ],
   "source": [
    "# a) \n",
    "cube_list_a = []\n",
    "for x in range(11):\n",
    "    x = x ** 3\n",
    "    cube_list_a.append(x)\n",
    "print(\"For Loop:\", cube_list_a)\n",
    "\n",
    "# b)\n",
    "cube_list_b = [x * x * x for x in range(11)]\n",
    "print(\"List Comprehension:\", cube_list_a)"
   ]
  },
  {
   "cell_type": "code",
   "execution_count": null,
   "id": "463699f7-58e7-41cf-a9af-f91c87fc6f53",
   "metadata": {},
   "outputs": [],
   "source": []
  }
 ],
 "metadata": {
  "kernelspec": {
   "display_name": "Python 3 (ipykernel)",
   "language": "python",
   "name": "python3"
  },
  "language_info": {
   "codemirror_mode": {
    "name": "ipython",
    "version": 3
   },
   "file_extension": ".py",
   "mimetype": "text/x-python",
   "name": "python",
   "nbconvert_exporter": "python",
   "pygments_lexer": "ipython3",
   "version": "3.9.13"
  }
 },
 "nbformat": 4,
 "nbformat_minor": 5
}
